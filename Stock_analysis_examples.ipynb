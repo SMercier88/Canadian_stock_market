{
 "cells": [
  {
   "cell_type": "markdown",
   "metadata": {},
   "source": [
    "# Fundamental analysis for the Canadian stock market\n",
    "*Samuel Mercier, March 2018*\n",
    "\n",
    "Here are a few examples of the analyses we can perform using the \"extract_stock_information\" module. The module contains a class *Stock*, which creates an object describing the fundamental indicators of a given ticker, and a class *Sector*, which can be used to analyse all stocks in a given sector and find undervalued investment opportunities. "
   ]
  },
  {
   "cell_type": "code",
   "execution_count": null,
   "metadata": {},
   "outputs": [],
   "source": [
    "import Stock_Sector_Module as SSM"
   ]
  },
  {
   "cell_type": "markdown",
   "metadata": {},
   "source": [
    "## Extracting fundamental indicators\n",
    "Let's first extract the fundamental indicators of a stock. To do so, we need to provide the ticker of the stock - in this example, let's consider the stock Metro inc. (ticker MRU), a Canadian food retailer. To create a new instance for this stock, we just need to pass the ticker to the *Stock* class"
   ]
  },
  {
   "cell_type": "code",
   "execution_count": 2,
   "metadata": {},
   "outputs": [],
   "source": [
    "ticker = 'MRU'\n",
    "MRU = SSM.Stock(ticker)"
   ]
  },
  {
   "cell_type": "markdown",
   "metadata": {},
   "source": [
    "We can extract the fundamental indicators for our stock using the **get_key_stats()** method. The method will grab the fundamental indicators from Yahoo! finance, and store them in a *Key_index dictionary*. The fundamental indicators extracted by the method are:\n",
    " - *Current_ratio*: Current assets / current liabilities\n",
    " - *D/E*: Total debt / equity\n",
    " - *Dividend_t*: Trailing annual dividend yield\n",
    " - *EPS*: Diluted earnings per share\n",
    " - *Op_margin*: Operating margin\n",
    " - *P/B*: Price-to-book ratio\n",
    " - *PEG*: Price/Earnings to growth ratio (5 year expected)\n",
    " - *PE_t*: Trailing price-earnings ratio\n",
    " - *PE_f*: Forward price-earnings ratio\n",
    " - *PR*: Payout ratio\n",
    " - *QEG*: Quaterly earnings growth\n",
    " - *QRG*: Quaterly revenue growth\n",
    " - *ROE*: Return on equity\n",
    " - *SR*: Short ratio"
   ]
  },
  {
   "cell_type": "code",
   "execution_count": 3,
   "metadata": {},
   "outputs": [
    {
     "data": {
      "text/plain": [
       "{'Current_ratio': 2.4,\n",
       " 'D/E': 67.83,\n",
       " 'Dividend_t': 1.67,\n",
       " 'EPS': 7.65,\n",
       " 'Op_margin': 5.8,\n",
       " 'P/B': 2.16,\n",
       " 'PEG': 1.89,\n",
       " 'PE_f': 13.36,\n",
       " 'PE_t': 5.2,\n",
       " 'PR': 8.49,\n",
       " 'QEG': 864.3,\n",
       " 'QRG': 4.7,\n",
       " 'ROE': 49.04,\n",
       " 'SR': 6.77}"
      ]
     },
     "execution_count": 3,
     "metadata": {},
     "output_type": "execute_result"
    }
   ],
   "source": [
    "MRU.get_key_stats()\n",
    "MRU.Key_stats"
   ]
  },
  {
   "cell_type": "markdown",
   "metadata": {},
   "source": [
    "## Extracting analysts' estimates\n",
    "We can extract information on the analysts' coverage of our stock using the **analysts()** method. The method will extract information on the buy rating (1-strong buy to 5-strong sell), price target (*PT*), difference between the price target and current price (*PT_diff*) and the number of analysts covering the stock (*Nb_analysts*). These values are stored in the *Key_stats* dictionary."
   ]
  },
  {
   "cell_type": "code",
   "execution_count": 4,
   "metadata": {},
   "outputs": [
    {
     "data": {
      "text/plain": [
       "{'Buy_rating': 2.6,\n",
       " 'Current_ratio': 2.4,\n",
       " 'D/E': 67.83,\n",
       " 'Dividend_t': 1.67,\n",
       " 'EPS': 7.65,\n",
       " 'Nb_analysts': 9.0,\n",
       " 'Op_margin': 5.8,\n",
       " 'P/B': 2.16,\n",
       " 'PEG': 1.89,\n",
       " 'PE_f': 13.36,\n",
       " 'PE_t': 5.2,\n",
       " 'PR': 8.49,\n",
       " 'PT': 46.0,\n",
       " 'PT_diff': 15.54885707108766,\n",
       " 'QEG': 864.3,\n",
       " 'QRG': 4.7,\n",
       " 'ROE': 49.04,\n",
       " 'SR': 6.77}"
      ]
     },
     "execution_count": 4,
     "metadata": {},
     "output_type": "execute_result"
    }
   ],
   "source": [
    "MRU.analysts()\n",
    "MRU.Key_stats"
   ]
  },
  {
   "cell_type": "markdown",
   "metadata": {},
   "source": [
    "The analysts thus currently predict a price of 46$ for the stock, 15.5% above the current price. The current price (*CP*), along with the 52-week high (*52_high*) and low (*52_low*) prices, 52-week price change (*52_change*), and 50 (*50ma*) and 200 (*200ma*) day moving averages, can be found in the *price* dictionary:"
   ]
  },
  {
   "cell_type": "code",
   "execution_count": 5,
   "metadata": {},
   "outputs": [
    {
     "data": {
      "text/plain": [
       "{'200ma': 40.79,\n",
       " '50ma': 40.36,\n",
       " '52_change': -3.82,\n",
       " '52_high': 47.41,\n",
       " '52_low': 38.32,\n",
       " 'CP': 39.81}"
      ]
     },
     "execution_count": 5,
     "metadata": {},
     "output_type": "execute_result"
    }
   ],
   "source": [
    "MRU.price"
   ]
  },
  {
   "cell_type": "markdown",
   "metadata": {},
   "source": [
    "## Plotting the historical price\n",
    "The historical price of the stock can be plotted on a candlestick chart using the **get_charts()** method. The method takes three optional arguments, *start*, which describes the date (format (year, month, day)) from which we want to begin the plot, *candles_size*, which describes the number of days covered by each candle, and *moving_average*, describing the window of the price moving average added to the plot."
   ]
  },
  {
   "cell_type": "code",
   "execution_count": 6,
   "metadata": {},
   "outputs": [
    {
     "data": {
      "image/png": "[encoded data removed]",
      "text/plain": [
       "<matplotlib.figure.Figure at 0x82c4d68>"
      ]
     },
     "metadata": {},
     "output_type": "display_data"
    }
   ],
   "source": [
    "#Let's plot the price and volume exchanged for Metro since January 2013, \n",
    "#along with the 50-day moving average and candles covering 10-day periods\n",
    "MRU.get_charts(start=(2013, 1, 1), candles_size=10, moving_average=50)"
   ]
  },
  {
   "cell_type": "markdown",
   "metadata": {},
   "source": [
    "## Comparing stocks with other companies in the same sector\n",
    "We can use the module to compare a stock with the other companies in the same sector. The sector of our stock can be found by calling the *sector* attribute."
   ]
  },
  {
   "cell_type": "code",
   "execution_count": 7,
   "metadata": {},
   "outputs": [
    {
     "data": {
      "text/plain": [
       "'Consumer Defensive'"
      ]
     },
     "execution_count": 7,
     "metadata": {},
     "output_type": "execute_result"
    }
   ],
   "source": [
    "MRU.sector"
   ]
  },
  {
   "cell_type": "markdown",
   "metadata": {},
   "source": [
    "Metro is thus classified in the Consumer Defensive sector. Metro can be compared with its peers by calling the **rank_of_stock()** method. The method takes one argument, *metrics*, which is the list of fundamental indicators we want to look at."
   ]
  },
  {
   "cell_type": "code",
   "execution_count": 9,
   "metadata": {},
   "outputs": [],
   "source": [
    "#Let's compare Metro to the other stocks in the same sector with respect \n",
    "#to its trailing price-earnings ratio (PE_t), forward price-earnings ratio (PE_f), \n",
    "#price/earnings to growth ratio (PEG), operating margin (Op_margin) and the \n",
    "#difference between the analysts' price target and the current price (PT_diff)\n",
    "metrics = ['PE_t', 'PE_f', 'PEG', 'Op_margin', 'PT_diff']\n",
    "MRU.rank_of_stock(metrics)"
   ]
  },
  {
   "cell_type": "markdown",
   "metadata": {},
   "source": [
    "The **rank_of_stock()** method saves the rank of our stock, with respect to its peers, in the *rank* attribute."
   ]
  },
  {
   "cell_type": "code",
   "execution_count": 21,
   "metadata": {},
   "outputs": [
    {
     "data": {
      "text/plain": [
       "{'Op_margin': '6.0',\n",
       " 'PEG': '7.0',\n",
       " 'PE_f': '4.0',\n",
       " 'PE_t': '1.0',\n",
       " 'PT_diff': '6.0'}"
      ]
     },
     "execution_count": 21,
     "metadata": {},
     "output_type": "execute_result"
    }
   ],
   "source": [
    "MRU.rank"
   ]
  },
  {
   "cell_type": "markdown",
   "metadata": {},
   "source": [
    "As can be seen, Metro currently has the lowest trailing price-earnings ratio amongst the companies within the same sector, which could suggest an undervalued stock given its current earnings and a buy opportunity. However, three other stocks have a lower forward price-earnings ratio, and 6 companies a lower price/earnings to growth ratio, indicating that analysts may expect a limited growth of the stock earnings over the next few years. Note that the total number of stocks within the same sector can be known by calling the *number* attribute."
   ]
  },
  {
   "cell_type": "code",
   "execution_count": 11,
   "metadata": {},
   "outputs": [
    {
     "data": {
      "text/plain": [
       "12"
      ]
     },
     "execution_count": 11,
     "metadata": {},
     "output_type": "execute_result"
    }
   ],
   "source": [
    "MRU.number"
   ]
  },
  {
   "cell_type": "markdown",
   "metadata": {},
   "source": [
    "## Finding undervalued stocks in a sector\n",
    "The compagnies in a given sector can be analysed using the *Sector* class. Note that the *Stock* class inherits from the *Sector* class, meaning that all the methods discussed below can also be called directly on a stock."
   ]
  },
  {
   "cell_type": "markdown",
   "metadata": {},
   "source": [
    "The name of the different sectors follows the terminology used on Wikipedia [TSX Composite Index page](https://en.wikipedia.org/wiki/S%26P/TSX_Composite_Index). Let's say we want to look at the stocks in the 'Consumer Defensive' sector. "
   ]
  },
  {
   "cell_type": "code",
   "execution_count": 2,
   "metadata": {},
   "outputs": [],
   "source": [
    "CD = SSM.Sector('Consumer Defensive')"
   ]
  },
  {
   "cell_type": "markdown",
   "metadata": {},
   "source": [
    "We can find all the stocks in the sector by calling the **get_tickers()** method. The method will store the tickers of these stocks in the *tickers* attribute."
   ]
  },
  {
   "cell_type": "code",
   "execution_count": 13,
   "metadata": {},
   "outputs": [
    {
     "data": {
      "text/plain": [
       "['ATD.B',\n",
       " 'WEED',\n",
       " 'BCB',\n",
       " 'EMP.A',\n",
       " 'WN',\n",
       " 'PJC.A',\n",
       " 'L',\n",
       " 'MFI',\n",
       " 'MRU',\n",
       " 'PBH',\n",
       " 'SAP',\n",
       " 'NWC']"
      ]
     },
     "execution_count": 13,
     "metadata": {},
     "output_type": "execute_result"
    }
   ],
   "source": [
    "CD.get_tickers()\n",
    "CD.tickers"
   ]
  },
  {
   "cell_type": "markdown",
   "metadata": {},
   "source": [
    "We have 12 stocks in this sector, including MRU, as seen before. We can extract the fundamental indicators for all these stocks using the **export_csv_data()** method. The method takes one argument, *metrics*, describing the list of fundamental indicators we are interested in."
   ]
  },
  {
   "cell_type": "code",
   "execution_count": 14,
   "metadata": {},
   "outputs": [],
   "source": [
    "CD.export_csv_data(metrics)"
   ]
  },
  {
   "cell_type": "markdown",
   "metadata": {},
   "source": [
    "The **export_csv_data()** method saves the fundamental indicators of the stocks in a csv file named 'Statistics_?.csv', where \"?\" is the name of the sector. Let's see how this csv file looks."
   ]
  },
  {
   "cell_type": "code",
   "execution_count": 15,
   "metadata": {},
   "outputs": [
    {
     "data": {
      "text/html": [
       "<div>\n",
       "<style scoped>\n",
       "    .dataframe tbody tr th:only-of-type {\n",
       "        vertical-align: middle;\n",
       "    }\n",
       "\n",
       "    .dataframe tbody tr th {\n",
       "        vertical-align: top;\n",
       "    }\n",
       "\n",
       "    .dataframe thead th {\n",
       "        text-align: right;\n",
       "    }\n",
       "</style>\n",
       "<table border=\"1\" class=\"dataframe\">\n",
       "  <thead>\n",
       "    <tr style=\"text-align: right;\">\n",
       "      <th></th>\n",
       "      <th>ticker</th>\n",
       "      <th>PE_t</th>\n",
       "      <th>PE_f</th>\n",
       "      <th>PEG</th>\n",
       "      <th>Op_margin</th>\n",
       "      <th>PT_diff</th>\n",
       "    </tr>\n",
       "  </thead>\n",
       "  <tbody>\n",
       "    <tr>\n",
       "      <th>0</th>\n",
       "      <td>ATD.B</td>\n",
       "      <td>20.43</td>\n",
       "      <td>18.00</td>\n",
       "      <td>0.95</td>\n",
       "      <td>4.30</td>\n",
       "      <td>6.133863</td>\n",
       "    </tr>\n",
       "    <tr>\n",
       "      <th>1</th>\n",
       "      <td>WEED</td>\n",
       "      <td>NaN</td>\n",
       "      <td>832.50</td>\n",
       "      <td>NaN</td>\n",
       "      <td>-63.44</td>\n",
       "      <td>-0.720721</td>\n",
       "    </tr>\n",
       "    <tr>\n",
       "      <th>2</th>\n",
       "      <td>BCB</td>\n",
       "      <td>NaN</td>\n",
       "      <td>40.83</td>\n",
       "      <td>NaN</td>\n",
       "      <td>3.75</td>\n",
       "      <td>-13.471778</td>\n",
       "    </tr>\n",
       "    <tr>\n",
       "      <th>3</th>\n",
       "      <td>EMP.A</td>\n",
       "      <td>58.62</td>\n",
       "      <td>16.41</td>\n",
       "      <td>0.54</td>\n",
       "      <td>1.86</td>\n",
       "      <td>11.360063</td>\n",
       "    </tr>\n",
       "    <tr>\n",
       "      <th>4</th>\n",
       "      <td>WN</td>\n",
       "      <td>18.29</td>\n",
       "      <td>13.13</td>\n",
       "      <td>1.79</td>\n",
       "      <td>5.24</td>\n",
       "      <td>19.056100</td>\n",
       "    </tr>\n",
       "    <tr>\n",
       "      <th>5</th>\n",
       "      <td>PJC.A</td>\n",
       "      <td>24.41</td>\n",
       "      <td>21.56</td>\n",
       "      <td>77.39</td>\n",
       "      <td>8.44</td>\n",
       "      <td>-1.149425</td>\n",
       "    </tr>\n",
       "    <tr>\n",
       "      <th>6</th>\n",
       "      <td>L</td>\n",
       "      <td>16.94</td>\n",
       "      <td>12.46</td>\n",
       "      <td>1.74</td>\n",
       "      <td>5.79</td>\n",
       "      <td>21.750079</td>\n",
       "    </tr>\n",
       "    <tr>\n",
       "      <th>7</th>\n",
       "      <td>MFI</td>\n",
       "      <td>24.92</td>\n",
       "      <td>16.52</td>\n",
       "      <td>1.93</td>\n",
       "      <td>6.79</td>\n",
       "      <td>25.275081</td>\n",
       "    </tr>\n",
       "    <tr>\n",
       "      <th>8</th>\n",
       "      <td>MRU</td>\n",
       "      <td>5.20</td>\n",
       "      <td>13.36</td>\n",
       "      <td>1.89</td>\n",
       "      <td>5.80</td>\n",
       "      <td>15.577889</td>\n",
       "    </tr>\n",
       "    <tr>\n",
       "      <th>9</th>\n",
       "      <td>PBH</td>\n",
       "      <td>42.65</td>\n",
       "      <td>22.32</td>\n",
       "      <td>1.06</td>\n",
       "      <td>6.45</td>\n",
       "      <td>-0.305037</td>\n",
       "    </tr>\n",
       "    <tr>\n",
       "      <th>10</th>\n",
       "      <td>SAP</td>\n",
       "      <td>17.90</td>\n",
       "      <td>18.45</td>\n",
       "      <td>2.43</td>\n",
       "      <td>9.28</td>\n",
       "      <td>16.034483</td>\n",
       "    </tr>\n",
       "    <tr>\n",
       "      <th>11</th>\n",
       "      <td>NWC</td>\n",
       "      <td>19.29</td>\n",
       "      <td>13.31</td>\n",
       "      <td>1.31</td>\n",
       "      <td>6.09</td>\n",
       "      <td>17.549056</td>\n",
       "    </tr>\n",
       "  </tbody>\n",
       "</table>\n",
       "</div>"
      ],
      "text/plain": [
       "   ticker   PE_t    PE_f    PEG  Op_margin    PT_diff\n",
       "0   ATD.B  20.43   18.00   0.95       4.30   6.133863\n",
       "1    WEED    NaN  832.50    NaN     -63.44  -0.720721\n",
       "2     BCB    NaN   40.83    NaN       3.75 -13.471778\n",
       "3   EMP.A  58.62   16.41   0.54       1.86  11.360063\n",
       "4      WN  18.29   13.13   1.79       5.24  19.056100\n",
       "5   PJC.A  24.41   21.56  77.39       8.44  -1.149425\n",
       "6       L  16.94   12.46   1.74       5.79  21.750079\n",
       "7     MFI  24.92   16.52   1.93       6.79  25.275081\n",
       "8     MRU   5.20   13.36   1.89       5.80  15.577889\n",
       "9     PBH  42.65   22.32   1.06       6.45  -0.305037\n",
       "10    SAP  17.90   18.45   2.43       9.28  16.034483\n",
       "11    NWC  19.29   13.31   1.31       6.09  17.549056"
      ]
     },
     "execution_count": 15,
     "metadata": {},
     "output_type": "execute_result"
    }
   ],
   "source": [
    "import pandas as pd\n",
    "statistics = pd.read_csv('Statistics_%s.csv' %CD.sector)\n",
    "statistics.head(CD.number)"
   ]
  },
  {
   "cell_type": "markdown",
   "metadata": {},
   "source": [
    "As we can see, we have the fundamental indicators we are interested in for all the stocks in a sector within a single table, providing us with the opportunity of quickly screening for undervalued investment opportunities. The NaNs either indicate a fundamental indicator unavailable for a stock or, in the case of *PE_t*, *PE_f* and *PEG*, a negative value."
   ]
  },
  {
   "cell_type": "markdown",
   "metadata": {},
   "source": [
    "We can also rank all the stocks for these different fundamental indicators using the **rank_all_stocks()** method. The method takes one argument, *metrics*, which is as before the list of fundamental indicators we are interested in."
   ]
  },
  {
   "cell_type": "code",
   "execution_count": 28,
   "metadata": {},
   "outputs": [],
   "source": [
    "CD.rank_all_stocks(metrics)"
   ]
  },
  {
   "cell_type": "markdown",
   "metadata": {},
   "source": [
    "The **rank_all_stocks()** method saves the fundamental indicators of the stocks in a csv file named 'Rank_?.csv', where \"?\" is the name of the sector. Let's see how it looks."
   ]
  },
  {
   "cell_type": "code",
   "execution_count": 29,
   "metadata": {},
   "outputs": [
    {
     "data": {
      "text/html": [
       "<div>\n",
       "<style scoped>\n",
       "    .dataframe tbody tr th:only-of-type {\n",
       "        vertical-align: middle;\n",
       "    }\n",
       "\n",
       "    .dataframe tbody tr th {\n",
       "        vertical-align: top;\n",
       "    }\n",
       "\n",
       "    .dataframe thead th {\n",
       "        text-align: right;\n",
       "    }\n",
       "</style>\n",
       "<table border=\"1\" class=\"dataframe\">\n",
       "  <thead>\n",
       "    <tr style=\"text-align: right;\">\n",
       "      <th></th>\n",
       "      <th>ticker</th>\n",
       "      <th>PE_t</th>\n",
       "      <th>PE_f</th>\n",
       "      <th>PEG</th>\n",
       "      <th>Op_margin</th>\n",
       "      <th>PT_diff</th>\n",
       "    </tr>\n",
       "  </thead>\n",
       "  <tbody>\n",
       "    <tr>\n",
       "      <th>0</th>\n",
       "      <td>ATD.B</td>\n",
       "      <td>6.0</td>\n",
       "      <td>7.0</td>\n",
       "      <td>2.0</td>\n",
       "      <td>9.0</td>\n",
       "      <td>8.0</td>\n",
       "    </tr>\n",
       "    <tr>\n",
       "      <th>1</th>\n",
       "      <td>WEED</td>\n",
       "      <td>NaN</td>\n",
       "      <td>12.0</td>\n",
       "      <td>NaN</td>\n",
       "      <td>12.0</td>\n",
       "      <td>10.0</td>\n",
       "    </tr>\n",
       "    <tr>\n",
       "      <th>2</th>\n",
       "      <td>BCB</td>\n",
       "      <td>NaN</td>\n",
       "      <td>11.0</td>\n",
       "      <td>NaN</td>\n",
       "      <td>10.0</td>\n",
       "      <td>12.0</td>\n",
       "    </tr>\n",
       "    <tr>\n",
       "      <th>3</th>\n",
       "      <td>EMP.A</td>\n",
       "      <td>10.0</td>\n",
       "      <td>5.0</td>\n",
       "      <td>1.0</td>\n",
       "      <td>11.0</td>\n",
       "      <td>7.0</td>\n",
       "    </tr>\n",
       "    <tr>\n",
       "      <th>4</th>\n",
       "      <td>WN</td>\n",
       "      <td>4.0</td>\n",
       "      <td>2.0</td>\n",
       "      <td>6.0</td>\n",
       "      <td>8.0</td>\n",
       "      <td>3.0</td>\n",
       "    </tr>\n",
       "    <tr>\n",
       "      <th>5</th>\n",
       "      <td>PJC.A</td>\n",
       "      <td>7.0</td>\n",
       "      <td>9.0</td>\n",
       "      <td>10.0</td>\n",
       "      <td>2.0</td>\n",
       "      <td>11.0</td>\n",
       "    </tr>\n",
       "    <tr>\n",
       "      <th>6</th>\n",
       "      <td>L</td>\n",
       "      <td>2.0</td>\n",
       "      <td>1.0</td>\n",
       "      <td>5.0</td>\n",
       "      <td>7.0</td>\n",
       "      <td>2.0</td>\n",
       "    </tr>\n",
       "    <tr>\n",
       "      <th>7</th>\n",
       "      <td>MFI</td>\n",
       "      <td>8.0</td>\n",
       "      <td>6.0</td>\n",
       "      <td>8.0</td>\n",
       "      <td>3.0</td>\n",
       "      <td>1.0</td>\n",
       "    </tr>\n",
       "    <tr>\n",
       "      <th>8</th>\n",
       "      <td>MRU</td>\n",
       "      <td>1.0</td>\n",
       "      <td>4.0</td>\n",
       "      <td>7.0</td>\n",
       "      <td>6.0</td>\n",
       "      <td>6.0</td>\n",
       "    </tr>\n",
       "    <tr>\n",
       "      <th>9</th>\n",
       "      <td>PBH</td>\n",
       "      <td>9.0</td>\n",
       "      <td>10.0</td>\n",
       "      <td>3.0</td>\n",
       "      <td>4.0</td>\n",
       "      <td>9.0</td>\n",
       "    </tr>\n",
       "    <tr>\n",
       "      <th>10</th>\n",
       "      <td>SAP</td>\n",
       "      <td>3.0</td>\n",
       "      <td>8.0</td>\n",
       "      <td>9.0</td>\n",
       "      <td>1.0</td>\n",
       "      <td>5.0</td>\n",
       "    </tr>\n",
       "    <tr>\n",
       "      <th>11</th>\n",
       "      <td>NWC</td>\n",
       "      <td>5.0</td>\n",
       "      <td>3.0</td>\n",
       "      <td>4.0</td>\n",
       "      <td>5.0</td>\n",
       "      <td>4.0</td>\n",
       "    </tr>\n",
       "  </tbody>\n",
       "</table>\n",
       "</div>"
      ],
      "text/plain": [
       "   ticker  PE_t  PE_f   PEG  Op_margin  PT_diff\n",
       "0   ATD.B   6.0   7.0   2.0        9.0      8.0\n",
       "1    WEED   NaN  12.0   NaN       12.0     10.0\n",
       "2     BCB   NaN  11.0   NaN       10.0     12.0\n",
       "3   EMP.A  10.0   5.0   1.0       11.0      7.0\n",
       "4      WN   4.0   2.0   6.0        8.0      3.0\n",
       "5   PJC.A   7.0   9.0  10.0        2.0     11.0\n",
       "6       L   2.0   1.0   5.0        7.0      2.0\n",
       "7     MFI   8.0   6.0   8.0        3.0      1.0\n",
       "8     MRU   1.0   4.0   7.0        6.0      6.0\n",
       "9     PBH   9.0  10.0   3.0        4.0      9.0\n",
       "10    SAP   3.0   8.0   9.0        1.0      5.0\n",
       "11    NWC   5.0   3.0   4.0        5.0      4.0"
      ]
     },
     "execution_count": 29,
     "metadata": {},
     "output_type": "execute_result"
    }
   ],
   "source": [
    "Ranks = pd.read_csv('Rank_%s.csv' %CD.sector)\n",
    "Ranks.head(CD.number)"
   ]
  },
  {
   "cell_type": "markdown",
   "metadata": {},
   "source": [
    "Just as we saw before, we can see that Metro (ticker MRU) has the best (lowest) training price-earnings ratio, but other stocks in the same sector look more undervalued with respect to the other fundamental indicators."
   ]
  },
  {
   "cell_type": "markdown",
   "metadata": {},
   "source": [
    "The stock with the best average ranking can be found by calling the **identify_best_stock()** method, which also takes one argument, *metrics*, the list of fundamental indicators we are interested in."
   ]
  },
  {
   "cell_type": "code",
   "execution_count": 30,
   "metadata": {},
   "outputs": [
    {
     "data": {
      "text/plain": [
       "('L', [3.4])"
      ]
     },
     "execution_count": 30,
     "metadata": {},
     "output_type": "execute_result"
    }
   ],
   "source": [
    "CD.identify_best_stock(metrics)\n",
    "CD.best_stock"
   ]
  },
  {
   "cell_type": "markdown",
   "metadata": {},
   "source": [
    "The five fundamental indicators considered thus suggest that Loblaws (ticker L) may currently be the most undervalued stock amongst its peers, as it has the lowest price/earnings to growth ratio (%PEG%), second lowest trailing price-earnings ratio (%PE_t%) and second highest difference between analyst's price target and the stock current price (%PT_diff%). On average, Loblaws has a 3.4 ranking for the five fundamental indicators considered, the lowest aggregated ranking amongst its peers. "
   ]
  },
  {
   "cell_type": "markdown",
   "metadata": {},
   "source": [
    "Finally, some additional basic statistics (average, median and best) can be obtained for each fundamental indicator by running the **get_average_best()** method, and then calling the *average*, *median* and *best* attributes."
   ]
  },
  {
   "cell_type": "code",
   "execution_count": 31,
   "metadata": {},
   "outputs": [],
   "source": [
    "CD.get_average_best(metrics)"
   ]
  },
  {
   "cell_type": "code",
   "execution_count": 32,
   "metadata": {},
   "outputs": [
    {
     "data": {
      "text/plain": [
       "{'Op_margin': 0.02916666666666649,\n",
       " 'PEG': 9.103,\n",
       " 'PE_f': 86.59333333333332,\n",
       " 'PE_t': 24.871000000000002,\n",
       " 'PT_diff': 9.734183150755738}"
      ]
     },
     "execution_count": 32,
     "metadata": {},
     "output_type": "execute_result"
    }
   ],
   "source": [
    "CD.average"
   ]
  },
  {
   "cell_type": "code",
   "execution_count": 33,
   "metadata": {},
   "outputs": [
    {
     "data": {
      "text/plain": [
       "{'Op_margin': ['MRU', 5.8],\n",
       " 'PEG': ['L', 1.74],\n",
       " 'PE_f': ['ATD.B', 18.01],\n",
       " 'PE_t': ['WN', 18.29],\n",
       " 'PT_diff': ['MRU', 15.57788944723619]}"
      ]
     },
     "execution_count": 33,
     "metadata": {},
     "output_type": "execute_result"
    }
   ],
   "source": [
    "CD.median"
   ]
  },
  {
   "cell_type": "code",
   "execution_count": 34,
   "metadata": {},
   "outputs": [
    {
     "data": {
      "text/plain": [
       "{'Op_margin': ['SAP', 9.28],\n",
       " 'PEG': ['ATD.B', 0.95],\n",
       " 'PE_f': ['L', 12.45],\n",
       " 'PE_t': ['ATD.B', 20.45],\n",
       " 'PT_diff': ['MFI', 25.194049159120308]}"
      ]
     },
     "execution_count": 34,
     "metadata": {},
     "output_type": "execute_result"
    }
   ],
   "source": [
    "CD.best"
   ]
  },
  {
   "cell_type": "markdown",
   "metadata": {},
   "source": [
    "As we can see, in the Consumer Defensive sector, the price of the stocks is on average of 9.7% below the analysts' average price target (*PT_diff*), Alimentation Couche-Tard (ticker ATD.B) has the median forward price-earnings ratio (*PE_f*), and Saputo (ticker SAP) holds the best operating margin, at 9.28% "
   ]
  },
  {
   "cell_type": "markdown",
   "metadata": {},
   "source": [
    "With this module, you can thus quickly get an overview of the stocks on the Canadian stock market for each sector, and find companies looking undervalued with respect to your favorite fundamental indicators. However, obviously, you may want to dig deeper into each stock before investing in them, and should always remain aware of the risks associated with any investment in the stock market. With that said, happy stock hunting!"
   ]
  }
 ],
 "metadata": {
  "kernelspec": {
   "display_name": "Python 3",
   "language": "python",
   "name": "python3"
  },
  "language_info": {
   "codemirror_mode": {
    "name": "ipython",
    "version": 3
   },
   "file_extension": ".py",
   "mimetype": "text/x-python",
   "name": "python",
   "nbconvert_exporter": "python",
   "pygments_lexer": "ipython3",
   "version": "3.6.3"
  }
 },
 "nbformat": 4,
 "nbformat_minor": 2
}
